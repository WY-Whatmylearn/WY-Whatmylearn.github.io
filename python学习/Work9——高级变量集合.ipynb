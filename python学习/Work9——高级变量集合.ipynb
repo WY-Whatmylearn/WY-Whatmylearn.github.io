{
 "cells": [
  {
   "cell_type": "markdown",
   "id": "ba8fd8c1",
   "metadata": {},
   "source": [
    "# 集合的特性"
   ]
  },
  {
   "cell_type": "markdown",
   "id": "fa5b89f4",
   "metadata": {},
   "source": [
    "集合是无序的，集合中的元素是唯一的，集合一般用于元组或者列表中的元素去重"
   ]
  },
  {
   "cell_type": "markdown",
   "id": "8a6c79ea",
   "metadata": {},
   "source": [
    "# 集合的创建"
   ]
  },
  {
   "cell_type": "code",
   "execution_count": 2,
   "id": "fc96b52b",
   "metadata": {},
   "outputs": [
    {
     "name": "stdout",
     "output_type": "stream",
     "text": [
      "{'张', '三'}\n"
     ]
    }
   ],
   "source": [
    "name = set(\"张三\")\n",
    "print(name)"
   ]
  },
  {
   "cell_type": "code",
   "execution_count": 6,
   "id": "6274c161",
   "metadata": {},
   "outputs": [
    {
     "data": {
      "text/plain": [
       "{'李四'}"
      ]
     },
     "execution_count": 6,
     "metadata": {},
     "output_type": "execute_result"
    }
   ],
   "source": [
    "name_temple = {\"李四\"}\n",
    "name_temple"
   ]
  },
  {
   "cell_type": "code",
   "execution_count": 10,
   "id": "8276ef89",
   "metadata": {},
   "outputs": [
    {
     "name": "stdout",
     "output_type": "stream",
     "text": [
      "{1, 2, 3} <class 'set'>\n",
      "{'h', 'e', 'l', 'o'} <class 'set'>\n",
      "{'姓名', '性别'} <class 'set'>\n"
     ]
    }
   ],
   "source": [
    "set1 = set([1, 2, 3])\n",
    "set2 = set('hello')\n",
    "set3 = set({'姓名': 'zqc', '性别': '女'})\n",
    "print(set1, type(set1))\n",
    "print(set2, type(set2))\n",
    "print(set3, type(set3)) #字典转为集合只包含key值"
   ]
  },
  {
   "cell_type": "markdown",
   "id": "988e455a",
   "metadata": {},
   "source": [
    "# 集合的操作"
   ]
  },
  {
   "cell_type": "markdown",
   "id": "86350e78",
   "metadata": {},
   "source": [
    "索引"
   ]
  },
  {
   "cell_type": "code",
   "execution_count": 19,
   "id": "7a080110",
   "metadata": {},
   "outputs": [
    {
     "name": "stdout",
     "output_type": "stream",
     "text": [
      "{1, 2, 3}\n",
      "2\n"
     ]
    }
   ],
   "source": [
    "a = set([1,2,3])\n",
    "print(a)\n",
    "print(list(a)[1])\n",
    "#因为集合本身是无序的，所以不能直接通过索引取值\n",
    "#将集合转化为列表，转化后的列表可以通过索取值"
   ]
  },
  {
   "cell_type": "markdown",
   "id": "fc80d527",
   "metadata": {},
   "source": [
    " in、not in\n",
    "判断指定元素是否在集合中\n",
    "返回布尔类型"
   ]
  },
  {
   "cell_type": "code",
   "execution_count": 18,
   "id": "b5f73152",
   "metadata": {},
   "outputs": [
    {
     "data": {
      "text/plain": [
       "True"
      ]
     },
     "execution_count": 18,
     "metadata": {},
     "output_type": "execute_result"
    }
   ],
   "source": [
    "2 in a"
   ]
  },
  {
   "cell_type": "markdown",
   "id": "89fdfa66",
   "metadata": {},
   "source": [
    "len() 用来获取集合长度，即集合中有几个元素\n",
    "返回一个 int 类型"
   ]
  },
  {
   "cell_type": "code",
   "execution_count": 20,
   "id": "d694c465",
   "metadata": {},
   "outputs": [
    {
     "data": {
      "text/plain": [
       "3"
      ]
     },
     "execution_count": 20,
     "metadata": {},
     "output_type": "execute_result"
    }
   ],
   "source": [
    "len(a)"
   ]
  },
  {
   "cell_type": "markdown",
   "id": "33a34f09",
   "metadata": {},
   "source": [
    "add() 用来向集合中添加一个元素"
   ]
  },
  {
   "cell_type": "code",
   "execution_count": 21,
   "id": "254c4a9d",
   "metadata": {},
   "outputs": [
    {
     "name": "stdout",
     "output_type": "stream",
     "text": [
      "{33, 11, 44, 22}\n"
     ]
    }
   ],
   "source": [
    "my_set = {11, 22, 33}\n",
    "my_set.add(44)\n",
    "print(my_set)"
   ]
  },
  {
   "cell_type": "markdown",
   "id": "bf570eb5",
   "metadata": {},
   "source": [
    "update() 用来将一个集合中的元素添加到另一个集合中"
   ]
  },
  {
   "cell_type": "code",
   "execution_count": 22,
   "id": "53034707",
   "metadata": {},
   "outputs": [
    {
     "name": "stdout",
     "output_type": "stream",
     "text": [
      "{33, 11, 44, 22}\n"
     ]
    }
   ],
   "source": [
    "my_set = {11, 22, 33}\n",
    "your_set = {44}\n",
    "my_set.update(your_set)\n",
    "print(my_set)"
   ]
  },
  {
   "cell_type": "markdown",
   "id": "fd199d06",
   "metadata": {},
   "source": [
    "pop() 用来随机删除集合中的一个元素\n",
    "pop() 有返回值"
   ]
  },
  {
   "cell_type": "code",
   "execution_count": 23,
   "id": "b483e03b",
   "metadata": {},
   "outputs": [
    {
     "name": "stdout",
     "output_type": "stream",
     "text": [
      "33\n",
      "{11, 22}\n"
     ]
    }
   ],
   "source": [
    "my_set = {11, 22, 33}\n",
    "d = my_set.pop()\n",
    "print(d)\n",
    "print(my_set)"
   ]
  },
  {
   "cell_type": "markdown",
   "id": "9f1f9292",
   "metadata": {},
   "source": [
    "remove() 用来删除一个指定的元素"
   ]
  },
  {
   "cell_type": "code",
   "execution_count": 24,
   "id": "92582724",
   "metadata": {},
   "outputs": [
    {
     "name": "stdout",
     "output_type": "stream",
     "text": [
      "set()\n"
     ]
    }
   ],
   "source": [
    "my_set = {11, 22, 33}\n",
    "my_set.clear()\n",
    "print(my_set)"
   ]
  },
  {
   "cell_type": "markdown",
   "id": "c33a7e9a",
   "metadata": {},
   "source": [
    "clear()　用来清空集合"
   ]
  },
  {
   "cell_type": "code",
   "execution_count": 25,
   "id": "731881e4",
   "metadata": {},
   "outputs": [
    {
     "name": "stdout",
     "output_type": "stream",
     "text": [
      "set()\n"
     ]
    }
   ],
   "source": [
    "my_set = {11, 22, 33}\n",
    "my_set.clear()\n",
    "print(my_set)"
   ]
  },
  {
   "cell_type": "markdown",
   "id": "0d2ef74a",
   "metadata": {},
   "source": [
    "# 集合的运算"
   ]
  },
  {
   "cell_type": "markdown",
   "id": "f1bf0ea1",
   "metadata": {},
   "source": [
    "交集 & 返回一个集合"
   ]
  },
  {
   "cell_type": "code",
   "execution_count": 26,
   "id": "1d5b343b",
   "metadata": {},
   "outputs": [
    {
     "name": "stdout",
     "output_type": "stream",
     "text": [
      "{3, 4, 5}\n"
     ]
    }
   ],
   "source": [
    "my_set = {1, 2, 3, 4, 5}\n",
    "your_set = {3, 4, 5, 6, 7}\n",
    "print(my_set & your_set)"
   ]
  },
  {
   "cell_type": "markdown",
   "id": "b3efac7d",
   "metadata": {},
   "source": [
    "并集 |"
   ]
  },
  {
   "cell_type": "code",
   "execution_count": 27,
   "id": "8b20a70a",
   "metadata": {},
   "outputs": [
    {
     "name": "stdout",
     "output_type": "stream",
     "text": [
      "{1, 2, 3, 4, 5, 6, 7}\n"
     ]
    }
   ],
   "source": [
    "my_set = {1, 2, 3, 4, 5}\n",
    "your_set = {3, 4, 5, 6, 7}\n",
    "print(my_set | your_set)"
   ]
  },
  {
   "cell_type": "markdown",
   "id": "40ab104b",
   "metadata": {},
   "source": [
    "差集 -"
   ]
  },
  {
   "cell_type": "code",
   "execution_count": 28,
   "id": "86007349",
   "metadata": {},
   "outputs": [
    {
     "name": "stdout",
     "output_type": "stream",
     "text": [
      "{1, 2}\n",
      "{6, 7}\n"
     ]
    }
   ],
   "source": [
    "my_set = {1, 2, 3, 4, 5}\n",
    "your_set = {3, 4, 5, 6, 7}\n",
    "print(my_set - your_set)\n",
    "print(your_set - my_set)"
   ]
  },
  {
   "cell_type": "markdown",
   "id": "83f460a7",
   "metadata": {},
   "source": [
    "异或 ^\n",
    "返回的是一个集合\n",
    "异或为不相交的部分"
   ]
  },
  {
   "cell_type": "code",
   "execution_count": 29,
   "id": "cae36562",
   "metadata": {},
   "outputs": [
    {
     "name": "stdout",
     "output_type": "stream",
     "text": [
      "{1, 2, 6, 7}\n"
     ]
    }
   ],
   "source": [
    "my_set = {1, 2, 3, 4, 5}\n",
    "your_set = {3, 4, 5, 6, 7}\n",
    "print(my_set ^ your_set)"
   ]
  },
  {
   "cell_type": "markdown",
   "id": "4e001274",
   "metadata": {},
   "source": [
    "集合间的关系 ≤、<、≥、>"
   ]
  },
  {
   "cell_type": "markdown",
   "id": "6e6de6bd",
   "metadata": {},
   "source": [
    "* 判断一个集合是否是另一个集合的子集：<=\n",
    "* 判断一个集合是否是另一个集合的真子集：<\n",
    "* 判断一个集合是否是另一个集合的超集：>=\n",
    "* 判断一个集合是否是另一个集合的真超集：>\n",
    "* 返回布尔类型"
   ]
  }
 ],
 "metadata": {
  "kernelspec": {
   "display_name": "Python 3 (ipykernel)",
   "language": "python",
   "name": "python3"
  },
  "language_info": {
   "codemirror_mode": {
    "name": "ipython",
    "version": 3
   },
   "file_extension": ".py",
   "mimetype": "text/x-python",
   "name": "python",
   "nbconvert_exporter": "python",
   "pygments_lexer": "ipython3",
   "version": "3.7.11"
  }
 },
 "nbformat": 4,
 "nbformat_minor": 5
}
